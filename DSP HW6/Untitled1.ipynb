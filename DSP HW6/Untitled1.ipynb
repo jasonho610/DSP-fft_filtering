{
 "cells": [
  {
   "cell_type": "code",
   "execution_count": 1,
   "metadata": {},
   "outputs": [],
   "source": [
    "import numpy as np\n",
    "import scipy.signal as ss\n",
    "from scipy.io import wavfile\n",
    "import matplotlib.pyplot as plt\n",
    "import pandas as pd\n",
    "import random"
   ]
  },
  {
   "cell_type": "code",
   "execution_count": 82,
   "metadata": {},
   "outputs": [],
   "source": [
    "P=10;Q=5;N=32 #P+Q-1<=N"
   ]
  },
  {
   "cell_type": "code",
   "execution_count": 88,
   "metadata": {},
   "outputs": [
    {
     "data": {
      "text/plain": [
       "array([0.2, 0.2, 0.2, 0.2, 0.2])"
      ]
     },
     "execution_count": 88,
     "metadata": {},
     "output_type": "execute_result"
    }
   ],
   "source": [
    "hn=np.ones(Q)*0.2\n",
    "hn"
   ]
  },
  {
   "cell_type": "code",
   "execution_count": 89,
   "metadata": {},
   "outputs": [
    {
     "name": "stdout",
     "output_type": "stream",
     "text": [
      "[ 2  1  9  8  0  1  3  5  2  4  1  9  1  1  6  9  9 10  4  1  6  7  0  7\n",
      "  5  9  8  3  5  2  5  9  9  6  3  4  1  1  7  9  8  6]\n"
     ]
    },
    {
     "name": "stderr",
     "output_type": "stream",
     "text": [
      "/Users/jason/opt/anaconda3/lib/python3.7/site-packages/ipykernel_launcher.py:3: UserWarning: In Matplotlib 3.3 individual lines on a stem plot will be added as a LineCollection instead of individual lines. This significantly improves the performance of a stem plot. To remove this warning and switch to the new behaviour, set the \"use_line_collection\" keyword argument to True.\n",
      "  This is separate from the ipykernel package so we can avoid doing imports until\n"
     ]
    },
    {
     "data": {
      "text/plain": [
       "<StemContainer object of 3 artists>"
      ]
     },
     "execution_count": 89,
     "metadata": {},
     "output_type": "execute_result"
    },
    {
     "data": {
      "image/png": "[encoded data removed]",
      "text/plain": [
       "<Figure size 432x288 with 1 Axes>"
      ]
     },
     "metadata": {
      "needs_background": "light"
     },
     "output_type": "display_data"
    }
   ],
   "source": [
    "xn=np.random.randint(0,11,42)\n",
    "print(xn)\n",
    "plt.stem(xn)"
   ]
  },
  {
   "cell_type": "code",
   "execution_count": 90,
   "metadata": {},
   "outputs": [],
   "source": [
    "\"\"\"Convolution Version\"\"\"\n",
    "seg=len(xn)//P+1"
   ]
  },
  {
   "cell_type": "code",
   "execution_count": 81,
   "metadata": {},
   "outputs": [
    {
     "name": "stdout",
     "output_type": "stream",
     "text": [
      "[1.6 3.4 3.8 4.4 5.2 5.4 5.  5.2 5.4 5.2 3.4 2.  1.4 0.6]\n"
     ]
    },
    {
     "ename": "ValueError",
     "evalue": "operands could not be broadcast together with shapes (16,) (14,) ",
     "output_type": "error",
     "traceback": [
      "\u001b[0;31m---------------------------------------------------------------------------\u001b[0m",
      "\u001b[0;31mValueError\u001b[0m                                Traceback (most recent call last)",
      "\u001b[0;32m<ipython-input-81-36357275b01b>\u001b[0m in \u001b[0;36m<module>\u001b[0;34m\u001b[0m\n\u001b[1;32m      3\u001b[0m     \u001b[0mtemp\u001b[0m\u001b[0;34m=\u001b[0m\u001b[0mnp\u001b[0m\u001b[0;34m.\u001b[0m\u001b[0mconvolve\u001b[0m\u001b[0;34m(\u001b[0m\u001b[0mhn\u001b[0m\u001b[0;34m,\u001b[0m \u001b[0mxn\u001b[0m\u001b[0;34m[\u001b[0m\u001b[0mi\u001b[0m\u001b[0;34m*\u001b[0m\u001b[0;36m10\u001b[0m\u001b[0;34m:\u001b[0m\u001b[0;34m(\u001b[0m\u001b[0mi\u001b[0m\u001b[0;34m+\u001b[0m\u001b[0;36m1\u001b[0m\u001b[0;34m)\u001b[0m\u001b[0;34m*\u001b[0m\u001b[0;36m10\u001b[0m\u001b[0;34m]\u001b[0m\u001b[0;34m)\u001b[0m\u001b[0;34m\u001b[0m\u001b[0;34m\u001b[0m\u001b[0m\n\u001b[1;32m      4\u001b[0m     \u001b[0mprint\u001b[0m\u001b[0;34m(\u001b[0m\u001b[0mtemp\u001b[0m\u001b[0;34m)\u001b[0m\u001b[0;34m\u001b[0m\u001b[0;34m\u001b[0m\u001b[0m\n\u001b[0;32m----> 5\u001b[0;31m     \u001b[0my\u001b[0m\u001b[0;34m[\u001b[0m\u001b[0mi\u001b[0m\u001b[0;34m*\u001b[0m\u001b[0;36m10\u001b[0m\u001b[0;34m:\u001b[0m\u001b[0mi\u001b[0m\u001b[0;34m*\u001b[0m\u001b[0;36m10\u001b[0m\u001b[0;34m+\u001b[0m\u001b[0;36m16\u001b[0m\u001b[0;34m]\u001b[0m\u001b[0;34m=\u001b[0m\u001b[0my\u001b[0m\u001b[0;34m[\u001b[0m\u001b[0mi\u001b[0m\u001b[0;34m*\u001b[0m\u001b[0;36m10\u001b[0m\u001b[0;34m:\u001b[0m\u001b[0mi\u001b[0m\u001b[0;34m*\u001b[0m\u001b[0;36m10\u001b[0m\u001b[0;34m+\u001b[0m\u001b[0;36m16\u001b[0m\u001b[0;34m]\u001b[0m\u001b[0;34m+\u001b[0m\u001b[0mtemp\u001b[0m\u001b[0;34m\u001b[0m\u001b[0;34m\u001b[0m\u001b[0m\n\u001b[0m",
      "\u001b[0;31mValueError\u001b[0m: operands could not be broadcast together with shapes (16,) (14,) "
     ]
    }
   ],
   "source": [
    "y=np.zeros(56)\n",
    "for i in range(a):\n",
    "    temp=np.convolve(hn, x[i*10:(i+1)*10])\n",
    "    print(temp)\n",
    "    y[i*10:i*10+16]=y[i*10:i*10+16]+temp"
   ]
  },
  {
   "cell_type": "code",
   "execution_count": null,
   "metadata": {},
   "outputs": [],
   "source": [
    "\"\"\"FFT Version\"\"\""
   ]
  },
  {
   "cell_type": "code",
   "execution_count": 25,
   "metadata": {},
   "outputs": [
    {
     "name": "stderr",
     "output_type": "stream",
     "text": [
      "/Users/jason/opt/anaconda3/lib/python3.7/site-packages/ipykernel_launcher.py:10: UserWarning: In Matplotlib 3.3 individual lines on a stem plot will be added as a LineCollection instead of individual lines. This significantly improves the performance of a stem plot. To remove this warning and switch to the new behaviour, set the \"use_line_collection\" keyword argument to True.\n",
      "  # Remove the CWD from sys.path while we load stuff.\n"
     ]
    },
    {
     "data": {
      "text/plain": [
       "array([8., 9., 2., 3., 4., 9., 7., 3., 4., 3., 0., 0., 0., 0., 0., 0., 7.,\n",
       "       1., 2., 1., 2., 3., 7., 6., 4., 0., 0., 0., 0., 0., 0., 0., 4., 8.,\n",
       "       8., 3., 2., 8., 4., 3., 6., 5., 0., 0., 0., 0., 0., 0., 9., 5., 0.,\n",
       "       4., 4., 4., 3., 0., 2., 7., 0., 0., 0., 0., 0., 0., 2., 0., 0., 0.,\n",
       "       0., 0., 0., 0., 0., 0., 0., 0., 0., 0., 0., 0.])"
      ]
     },
     "execution_count": 25,
     "metadata": {},
     "output_type": "execute_result"
    },
    {
     "data": {
      "image/png": "[encoded data removed]",
      "text/plain": [
       "<Figure size 432x288 with 1 Axes>"
      ]
     },
     "metadata": {
      "needs_background": "light"
     },
     "output_type": "display_data"
    }
   ],
   "source": [
    "xx=np.zeros((16)*(a))\n",
    "for j in range(a):\n",
    "    for i in range(N):\n",
    "        if i+j*10 >= len(xn):\n",
    "            xx[i+j*16]=0\n",
    "        else:\n",
    "            xx[i+j*16]=xn[i+j*10]\n",
    "        \n",
    "plt.stem(xx)\n",
    "xx"
   ]
  },
  {
   "cell_type": "code",
   "execution_count": 79,
   "metadata": {
    "scrolled": true
   },
   "outputs": [
    {
     "data": {
      "text/plain": [
       "array([ 1.        +0.j        ,  0.60273395-0.60273395j,\n",
       "        0.        -0.48284271j, -0.04966058-0.04966058j,\n",
       "        0.2       +0.j        ,  0.16681786-0.16681786j,\n",
       "        0.        -0.08284271j,  0.08010876+0.08010876j,\n",
       "        0.2       +0.j        ,  0.08010876-0.08010876j,\n",
       "        0.        +0.08284271j,  0.16681786+0.16681786j,\n",
       "        0.2       -0.j        , -0.04966058+0.04966058j,\n",
       "        0.        +0.48284271j,  0.60273395+0.60273395j])"
      ]
     },
     "execution_count": 79,
     "metadata": {},
     "output_type": "execute_result"
    }
   ],
   "source": [
    "hh=np.zeros(16)\n",
    "hh[0:len(hn)]=hn\n",
    "H=np.fft.fft(hh)\n",
    "H"
   ]
  },
  {
   "cell_type": "code",
   "execution_count": 74,
   "metadata": {},
   "outputs": [
    {
     "name": "stderr",
     "output_type": "stream",
     "text": [
      "/Users/jason/opt/anaconda3/lib/python3.7/site-packages/ipykernel_launcher.py:8: UserWarning: In Matplotlib 3.3 individual lines on a stem plot will be added as a LineCollection instead of individual lines. This significantly improves the performance of a stem plot. To remove this warning and switch to the new behaviour, set the \"use_line_collection\" keyword argument to True.\n",
      "  \n"
     ]
    },
    {
     "data": {
      "image/png": "[encoded data removed]",
      "text/plain": [
       "<Figure size 432x288 with 1 Axes>"
      ]
     },
     "metadata": {
      "needs_background": "light"
     },
     "output_type": "display_data"
    },
    {
     "name": "stdout",
     "output_type": "stream",
     "text": [
      "[52.         21.23519927  5.08082523  1.08676406  3.31058907  0.37738432\n",
      "  0.76499348  0.47205587  0.4         0.47205587  0.76499348  0.37738432\n",
      "  3.31058907  1.08676406  5.08082523 21.23519927]\n"
     ]
    },
    {
     "data": {
      "image/png": "[encoded data removed]",
      "text/plain": [
       "<Figure size 432x288 with 1 Axes>"
      ]
     },
     "metadata": {
      "needs_background": "light"
     },
     "output_type": "display_data"
    },
    {
     "name": "stdout",
     "output_type": "stream",
     "text": [
      "[33.         13.53849226  7.20522417  0.79567475  1.          1.56317237\n",
      "  0.56986369  0.5938192   2.2         0.5938192   0.56986369  1.56317237\n",
      "  1.          0.79567475  7.20522417 13.53849226]\n"
     ]
    },
    {
     "data": {
      "image/png": "[encoded data removed]",
      "text/plain": [
       "<Figure size 432x288 with 1 Axes>"
      ]
     },
     "metadata": {
      "needs_background": "light"
     },
     "output_type": "display_data"
    },
    {
     "name": "stdout",
     "output_type": "stream",
     "text": [
      "[51.         19.57924336  6.65294909  0.54933259  3.          2.53869793\n",
      "  0.37184463  0.38272189  0.6         0.38272189  0.37184463  2.53869793\n",
      "  3.          0.54933259  6.65294909 19.57924336]\n"
     ]
    },
    {
     "data": {
      "image/png": "[encoded data removed]",
      "text/plain": [
       "<Figure size 432x288 with 1 Axes>"
      ]
     },
     "metadata": {
      "needs_background": "light"
     },
     "output_type": "display_data"
    },
    {
     "name": "stdout",
     "output_type": "stream",
     "text": [
      "[38.         11.1683926   5.43463639  0.75607352  3.39411255  2.4395457\n",
      "  1.01228815  0.7641834   0.4         0.7641834   1.01228815  2.4395457\n",
      "  3.39411255  0.75607352  5.43463639 11.1683926 ]\n"
     ]
    },
    {
     "data": {
      "image/png": "[encoded data removed]",
      "text/plain": [
       "<Figure size 432x288 with 1 Axes>"
      ]
     },
     "metadata": {
      "needs_background": "light"
     },
     "output_type": "display_data"
    },
    {
     "name": "stdout",
     "output_type": "stream",
     "text": [
      "[2.         1.70478905 0.96568542 0.14046132 0.4        0.47183217\n",
      " 0.16568542 0.2265818  0.4        0.2265818  0.16568542 0.47183217\n",
      " 0.4        0.14046132 0.96568542 1.70478905]\n"
     ]
    }
   ],
   "source": [
    "\n",
    "Y=np.zeros(64,dtype=\"complex\")\n",
    "for i in range(a):\n",
    "    plt.figure()\n",
    "    x=xx[i*16:(i+1)*16]\n",
    "    X=np.fft.fft(x)\n",
    "    temp=H*X\n",
    "    plt.stem(abs(temp))\n",
    "    plt.show()\n",
    "    print(abs(temp))\n",
    "    Y[i*10:i*10+16]=Y[i*10:i*10+16]+temp"
   ]
  },
  {
   "cell_type": "code",
   "execution_count": 76,
   "metadata": {},
   "outputs": [
    {
     "name": "stderr",
     "output_type": "stream",
     "text": [
      "/Users/jason/opt/anaconda3/lib/python3.7/site-packages/ipykernel_launcher.py:1: UserWarning: In Matplotlib 3.3 individual lines on a stem plot will be added as a LineCollection instead of individual lines. This significantly improves the performance of a stem plot. To remove this warning and switch to the new behaviour, set the \"use_line_collection\" keyword argument to True.\n",
      "  \"\"\"Entry point for launching an IPython kernel.\n"
     ]
    },
    {
     "data": {
      "text/plain": [
       "array([ 5.20000000e+01 +0.j        , -1.44382882e+01-15.57143292j,\n",
       "        1.38994949e+00 -4.88700577j, -1.00878196e+00 -0.40424632j,\n",
       "        1.40000000e+00 -3.j        , -8.58356580e-02 -0.36749308j,\n",
       "       -5.89949494e-01 -0.48700577j,  3.32905772e-01 -0.33467969j,\n",
       "       -4.00000000e-01 +0.j        ,  3.32905772e-01 +0.33467969j,\n",
       "        3.24100505e+01 +0.48700577j, -1.25374521e+01 -4.94739364j,\n",
       "        6.20416306e+00 -2.36984848j, -1.79194215e+00 +0.54481099j,\n",
       "        2.18994949e+00 +5.48700577j, -1.34325883e+01+14.37473929j,\n",
       "       -4.16305603e-03 -0.56984848j,  2.29076756e-01 +0.54785498j,\n",
       "        2.20000000e+00 +0.j        ,  2.29076756e-01 -0.54785498j,\n",
       "        5.09958369e+01 +0.56984848j, -1.34774224e+01-11.97850802j,\n",
       "       -2.83847763e+00 -6.16984848j, -1.16107774e+00 +0.25811393j,\n",
       "        4.80416306e+00 +2.36984848j, -1.31683165e+01 +7.75031855j,\n",
       "        3.84776311e-02 -0.36984848j,  3.77739925e-01 +0.06155158j,\n",
       "       -6.00000000e-01 +0.j        ,  3.77739925e-01 -0.06155158j,\n",
       "        3.80384776e+01 +0.36984848j, -6.57290479e+00-11.94531404j,\n",
       "       -2.64852814e+00 -1.74558441j, -4.55787682e-01 -1.15073139j,\n",
       "       -1.23847763e+00 +3.16984848j, -1.23282969e+01+12.03147497j,\n",
       "       -9.51471863e-01 -0.34558441j,  5.79249466e-01 +0.49844391j,\n",
       "       -4.00000000e-01 +0.j        ,  5.79249466e-01 -0.49844391j,\n",
       "        1.04852814e+00 +0.34558441j,  3.36029329e+00 -0.06174121j,\n",
       "        2.40000000e+00 +1.43431458j, -1.77191285e-01 +0.65273165j,\n",
       "       -2.24852814e+00 +4.74558441j, -5.52256900e+00 +9.17624648j,\n",
       "        0.00000000e+00 -0.16568542j,  1.60217527e-01 +0.16021753j,\n",
       "        4.00000000e-01 +0.j        ,  1.60217527e-01 -0.16021753j,\n",
       "        0.00000000e+00 +0.16568542j,  3.33635728e-01 +0.33363573j,\n",
       "        4.00000000e-01 +0.j        , -9.93211525e-02 +0.09932115j,\n",
       "        0.00000000e+00 +0.96568542j,  1.20546790e+00 +1.2054679j ,\n",
       "        0.00000000e+00 +0.j        ,  0.00000000e+00 +0.j        ,\n",
       "        0.00000000e+00 +0.j        ,  0.00000000e+00 +0.j        ,\n",
       "        0.00000000e+00 +0.j        ,  0.00000000e+00 +0.j        ,\n",
       "        0.00000000e+00 +0.j        ,  0.00000000e+00 +0.j        ])"
      ]
     },
     "execution_count": 76,
     "metadata": {},
     "output_type": "execute_result"
    },
    {
     "data": {
      "image/png": "[encoded data removed]",
      "text/plain": [
       "<Figure size 432x288 with 1 Axes>"
      ]
     },
     "metadata": {
      "needs_background": "light"
     },
     "output_type": "display_data"
    }
   ],
   "source": [
    "plt.stem(abs(Y))\n",
    "Y"
   ]
  },
  {
   "cell_type": "code",
   "execution_count": 77,
   "metadata": {},
   "outputs": [
    {
     "name": "stderr",
     "output_type": "stream",
     "text": [
      "/Users/jason/opt/anaconda3/lib/python3.7/site-packages/ipykernel_launcher.py:2: UserWarning: In Matplotlib 3.3 individual lines on a stem plot will be added as a LineCollection instead of individual lines. This significantly improves the performance of a stem plot. To remove this warning and switch to the new behaviour, set the \"use_line_collection\" keyword argument to True.\n",
      "  \n",
      "/Users/jason/opt/anaconda3/lib/python3.7/site-packages/numpy/core/_asarray.py:85: ComplexWarning: Casting complex values to real discards the imaginary part\n",
      "  return array(a, dtype, copy=False, order=order)\n"
     ]
    },
    {
     "data": {
      "text/plain": [
       "<StemContainer object of 3 artists>"
      ]
     },
     "execution_count": 77,
     "metadata": {},
     "output_type": "execute_result"
    },
    {
     "data": {
      "image/png": "[encoded data removed]",
      "text/plain": [
       "<Figure size 432x288 with 1 Axes>"
      ]
     },
     "metadata": {
      "needs_background": "light"
     },
     "output_type": "display_data"
    }
   ],
   "source": [
    "y=np.fft.ifft(Y)\n",
    "plt.stem(y)"
   ]
  },
  {
   "cell_type": "code",
   "execution_count": 7,
   "metadata": {},
   "outputs": [
    {
     "name": "stderr",
     "output_type": "stream",
     "text": [
      "/Users/jason/opt/anaconda3/lib/python3.7/site-packages/ipykernel_launcher.py:1: UserWarning: In Matplotlib 3.3 individual lines on a stem plot will be added as a LineCollection instead of individual lines. This significantly improves the performance of a stem plot. To remove this warning and switch to the new behaviour, set the \"use_line_collection\" keyword argument to True.\n",
      "  \"\"\"Entry point for launching an IPython kernel.\n"
     ]
    },
    {
     "data": {
      "text/plain": [
       "<StemContainer object of 3 artists>"
      ]
     },
     "execution_count": 7,
     "metadata": {},
     "output_type": "execute_result"
    },
    {
     "data": {
      "image/png": "[encoded data removed]",
      "text/plain": [
       "<Figure size 432x288 with 1 Axes>"
      ]
     },
     "metadata": {
      "needs_background": "light"
     },
     "output_type": "display_data"
    }
   ],
   "source": [
    "plt.stem(y)"
   ]
  },
  {
   "cell_type": "code",
   "execution_count": 8,
   "metadata": {},
   "outputs": [
    {
     "name": "stderr",
     "output_type": "stream",
     "text": [
      "/Users/jason/opt/anaconda3/lib/python3.7/site-packages/ipykernel_launcher.py:3: UserWarning: In Matplotlib 3.3 individual lines on a stem plot will be added as a LineCollection instead of individual lines. This significantly improves the performance of a stem plot. To remove this warning and switch to the new behaviour, set the \"use_line_collection\" keyword argument to True.\n",
      "  This is separate from the ipykernel package so we can avoid doing imports until\n"
     ]
    },
    {
     "data": {
      "text/plain": [
       "<StemContainer object of 3 artists>"
      ]
     },
     "execution_count": 8,
     "metadata": {},
     "output_type": "execute_result"
    },
    {
     "data": {
      "image/png": "[encoded data removed]",
      "text/plain": [
       "<Figure size 432x288 with 1 Axes>"
      ]
     },
     "metadata": {
      "needs_background": "light"
     },
     "output_type": "display_data"
    }
   ],
   "source": [
    "yy=np.convolve(xn,hn)\n",
    "yy\n",
    "plt.stem(yy)"
   ]
  },
  {
   "cell_type": "code",
   "execution_count": null,
   "metadata": {},
   "outputs": [],
   "source": []
  },
  {
   "cell_type": "code",
   "execution_count": null,
   "metadata": {},
   "outputs": [],
   "source": []
  }
 ],
 "metadata": {
  "kernelspec": {
   "display_name": "Python 3",
   "language": "python",
   "name": "python3"
  },
  "language_info": {
   "codemirror_mode": {
    "name": "ipython",
    "version": 3
   },
   "file_extension": ".py",
   "mimetype": "text/x-python",
   "name": "python",
   "nbconvert_exporter": "python",
   "pygments_lexer": "ipython3",
   "version": "3.7.4"
  }
 },
 "nbformat": 4,
 "nbformat_minor": 2
}
